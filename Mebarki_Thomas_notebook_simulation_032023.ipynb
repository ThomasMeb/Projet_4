{
 "cells": [
  {
   "cell_type": "code",
   "execution_count": 1,
   "metadata": {},
   "outputs": [],
   "source": [
    "import pandas as pd\n",
    "pd.options.display.max_columns=200\n",
    "import numpy as np\n",
    "import matplotlib.pyplot as plt\n",
    "import seaborn as sns\n",
    "import warnings\n",
    "warnings.filterwarnings('ignore')\n",
    "%matplotlib inline\n",
    "from sklearn.pipeline import make_pipeline\n",
    "from sklearn.experimental import enable_iterative_imputer\n",
    "from sklearn.impute import IterativeImputer\n",
    "from sklearn.cluster import KMeans\n",
    "from sklearn.preprocessing import StandardScaler\n",
    "from sklearn.metrics import silhouette_score\n",
    "import plotly.express as px\n",
    "from sklearn.metrics import adjusted_rand_score"
   ]
  },
  {
   "cell_type": "code",
   "execution_count": null,
   "metadata": {},
   "outputs": [],
   "source": []
  },
  {
   "cell_type": "code",
   "execution_count": 2,
   "metadata": {},
   "outputs": [],
   "source": [
    "data = pd.read_csv('data.csv')"
   ]
  },
  {
   "cell_type": "code",
   "execution_count": 3,
   "metadata": {},
   "outputs": [
    {
     "data": {
      "text/html": [
       "<div>\n",
       "<style scoped>\n",
       "    .dataframe tbody tr th:only-of-type {\n",
       "        vertical-align: middle;\n",
       "    }\n",
       "\n",
       "    .dataframe tbody tr th {\n",
       "        vertical-align: top;\n",
       "    }\n",
       "\n",
       "    .dataframe thead th {\n",
       "        text-align: right;\n",
       "    }\n",
       "</style>\n",
       "<table border=\"1\" class=\"dataframe\">\n",
       "  <thead>\n",
       "    <tr style=\"text-align: right;\">\n",
       "      <th></th>\n",
       "      <th>customer_id</th>\n",
       "      <th>customer_unique_id</th>\n",
       "      <th>order_id</th>\n",
       "      <th>price</th>\n",
       "      <th>order_purchase_timestamp</th>\n",
       "    </tr>\n",
       "  </thead>\n",
       "  <tbody>\n",
       "    <tr>\n",
       "      <th>0</th>\n",
       "      <td>9ef432eb6251297304e76186b10a928d</td>\n",
       "      <td>7c396fd4830fd04220f754e42b4e5bff</td>\n",
       "      <td>e481f51cbdc54678b7cc49136f2d6af7</td>\n",
       "      <td>29.99</td>\n",
       "      <td>2017-10-02 10:56:33</td>\n",
       "    </tr>\n",
       "    <tr>\n",
       "      <th>1</th>\n",
       "      <td>b0830fb4747a6c6d20dea0b8c802d7ef</td>\n",
       "      <td>af07308b275d755c9edb36a90c618231</td>\n",
       "      <td>53cdb2fc8bc7dce0b6741e2150273451</td>\n",
       "      <td>118.70</td>\n",
       "      <td>2018-07-24 20:41:37</td>\n",
       "    </tr>\n",
       "    <tr>\n",
       "      <th>2</th>\n",
       "      <td>41ce2a54c0b03bf3443c3d931a367089</td>\n",
       "      <td>3a653a41f6f9fc3d2a113cf8398680e8</td>\n",
       "      <td>47770eb9100c2d0c44946d9cf07ec65d</td>\n",
       "      <td>159.90</td>\n",
       "      <td>2018-08-08 08:38:49</td>\n",
       "    </tr>\n",
       "    <tr>\n",
       "      <th>3</th>\n",
       "      <td>f88197465ea7920adcdbec7375364d82</td>\n",
       "      <td>7c142cf63193a1473d2e66489a9ae977</td>\n",
       "      <td>949d5b44dbf5de918fe9c16f97b45f8a</td>\n",
       "      <td>45.00</td>\n",
       "      <td>2017-11-18 19:28:06</td>\n",
       "    </tr>\n",
       "    <tr>\n",
       "      <th>4</th>\n",
       "      <td>8ab97904e6daea8866dbdbc4fb7aad2c</td>\n",
       "      <td>72632f0f9dd73dfee390c9b22eb56dd6</td>\n",
       "      <td>ad21c59c0840e6cb83a9ceb5573f8159</td>\n",
       "      <td>19.90</td>\n",
       "      <td>2018-02-13 21:18:39</td>\n",
       "    </tr>\n",
       "  </tbody>\n",
       "</table>\n",
       "</div>"
      ],
      "text/plain": [
       "                        customer_id                customer_unique_id  \\\n",
       "0  9ef432eb6251297304e76186b10a928d  7c396fd4830fd04220f754e42b4e5bff   \n",
       "1  b0830fb4747a6c6d20dea0b8c802d7ef  af07308b275d755c9edb36a90c618231   \n",
       "2  41ce2a54c0b03bf3443c3d931a367089  3a653a41f6f9fc3d2a113cf8398680e8   \n",
       "3  f88197465ea7920adcdbec7375364d82  7c142cf63193a1473d2e66489a9ae977   \n",
       "4  8ab97904e6daea8866dbdbc4fb7aad2c  72632f0f9dd73dfee390c9b22eb56dd6   \n",
       "\n",
       "                           order_id   price order_purchase_timestamp  \n",
       "0  e481f51cbdc54678b7cc49136f2d6af7   29.99      2017-10-02 10:56:33  \n",
       "1  53cdb2fc8bc7dce0b6741e2150273451  118.70      2018-07-24 20:41:37  \n",
       "2  47770eb9100c2d0c44946d9cf07ec65d  159.90      2018-08-08 08:38:49  \n",
       "3  949d5b44dbf5de918fe9c16f97b45f8a   45.00      2017-11-18 19:28:06  \n",
       "4  ad21c59c0840e6cb83a9ceb5573f8159   19.90      2018-02-13 21:18:39  "
      ]
     },
     "execution_count": 3,
     "metadata": {},
     "output_type": "execute_result"
    }
   ],
   "source": [
    "data.drop(['Unnamed: 0'], axis=1, inplace=True)\n",
    "data.head()"
   ]
  },
  {
   "cell_type": "code",
   "execution_count": 4,
   "metadata": {},
   "outputs": [],
   "source": [
    "#separate data for each week\n",
    "data['order_purchase_timestamp'] = pd.to_datetime(data['order_purchase_timestamp'])\n",
    "\n",
    "data['week'] = (data['order_purchase_timestamp'] - data['order_purchase_timestamp'].min()).dt.days // 7"
   ]
  },
  {
   "cell_type": "code",
   "execution_count": 5,
   "metadata": {},
   "outputs": [
    {
     "data": {
      "text/plain": [
       "Timestamp('2016-09-04 21:15:19')"
      ]
     },
     "execution_count": 5,
     "metadata": {},
     "output_type": "execute_result"
    }
   ],
   "source": [
    "data['order_purchase_timestamp'].min()"
   ]
  },
  {
   "cell_type": "code",
   "execution_count": 6,
   "metadata": {},
   "outputs": [
    {
     "data": {
      "text/html": [
       "<div>\n",
       "<style scoped>\n",
       "    .dataframe tbody tr th:only-of-type {\n",
       "        vertical-align: middle;\n",
       "    }\n",
       "\n",
       "    .dataframe tbody tr th {\n",
       "        vertical-align: top;\n",
       "    }\n",
       "\n",
       "    .dataframe thead th {\n",
       "        text-align: right;\n",
       "    }\n",
       "</style>\n",
       "<table border=\"1\" class=\"dataframe\">\n",
       "  <thead>\n",
       "    <tr style=\"text-align: right;\">\n",
       "      <th></th>\n",
       "      <th>customer_id</th>\n",
       "      <th>customer_unique_id</th>\n",
       "      <th>order_id</th>\n",
       "      <th>price</th>\n",
       "      <th>order_purchase_timestamp</th>\n",
       "      <th>week</th>\n",
       "    </tr>\n",
       "  </thead>\n",
       "  <tbody>\n",
       "    <tr>\n",
       "      <th>4510</th>\n",
       "      <td>08c5351a6aca1c1589a38f244edeee9d</td>\n",
       "      <td>b7d76e111c89f7ebf14761390f0f7d17</td>\n",
       "      <td>2e7a8482f6fb09756ca50c10d7bfc047</td>\n",
       "      <td>39.99</td>\n",
       "      <td>2016-09-04 21:15:19</td>\n",
       "      <td>0</td>\n",
       "    </tr>\n",
       "  </tbody>\n",
       "</table>\n",
       "</div>"
      ],
      "text/plain": [
       "                           customer_id                customer_unique_id  \\\n",
       "4510  08c5351a6aca1c1589a38f244edeee9d  b7d76e111c89f7ebf14761390f0f7d17   \n",
       "\n",
       "                              order_id  price order_purchase_timestamp  week  \n",
       "4510  2e7a8482f6fb09756ca50c10d7bfc047  39.99      2016-09-04 21:15:19     0  "
      ]
     },
     "execution_count": 6,
     "metadata": {},
     "output_type": "execute_result"
    }
   ],
   "source": [
    "data.loc[data['order_purchase_timestamp'] == '2016-09-04 21:15:19']"
   ]
  },
  {
   "cell_type": "code",
   "execution_count": 7,
   "metadata": {},
   "outputs": [],
   "source": [
    "data.sort_values(by='order_purchase_timestamp', inplace=True)"
   ]
  },
  {
   "cell_type": "code",
   "execution_count": 8,
   "metadata": {},
   "outputs": [
    {
     "data": {
      "text/plain": [
       "104"
      ]
     },
     "execution_count": 8,
     "metadata": {},
     "output_type": "execute_result"
    }
   ],
   "source": [
    "data['week'].max()"
   ]
  },
  {
   "cell_type": "code",
   "execution_count": 9,
   "metadata": {},
   "outputs": [
    {
     "data": {
      "text/html": [
       "<div>\n",
       "<style scoped>\n",
       "    .dataframe tbody tr th:only-of-type {\n",
       "        vertical-align: middle;\n",
       "    }\n",
       "\n",
       "    .dataframe tbody tr th {\n",
       "        vertical-align: top;\n",
       "    }\n",
       "\n",
       "    .dataframe thead th {\n",
       "        text-align: right;\n",
       "    }\n",
       "</style>\n",
       "<table border=\"1\" class=\"dataframe\">\n",
       "  <thead>\n",
       "    <tr style=\"text-align: right;\">\n",
       "      <th></th>\n",
       "      <th>customer_id</th>\n",
       "      <th>customer_unique_id</th>\n",
       "      <th>order_id</th>\n",
       "      <th>price</th>\n",
       "      <th>order_purchase_timestamp</th>\n",
       "      <th>week</th>\n",
       "    </tr>\n",
       "  </thead>\n",
       "  <tbody>\n",
       "    <tr>\n",
       "      <th>4510</th>\n",
       "      <td>08c5351a6aca1c1589a38f244edeee9d</td>\n",
       "      <td>b7d76e111c89f7ebf14761390f0f7d17</td>\n",
       "      <td>2e7a8482f6fb09756ca50c10d7bfc047</td>\n",
       "      <td>39.99</td>\n",
       "      <td>2016-09-04 21:15:19</td>\n",
       "      <td>0</td>\n",
       "    </tr>\n",
       "    <tr>\n",
       "      <th>4366</th>\n",
       "      <td>683c54fc24d40ee9f8a6fc179fd9856c</td>\n",
       "      <td>4854e9b3feff728c13ee5fc7d1547e92</td>\n",
       "      <td>e5fa5a7210941f7d56d0208e4e071d35</td>\n",
       "      <td>59.50</td>\n",
       "      <td>2016-09-05 00:15:34</td>\n",
       "      <td>0</td>\n",
       "    </tr>\n",
       "    <tr>\n",
       "      <th>30475</th>\n",
       "      <td>86dc2ffce2dfff336de2f386a786e574</td>\n",
       "      <td>830d5b7aaa3b6f1e9ad63703bec97d23</td>\n",
       "      <td>bfbd0f9bdef84302105ad712db648a6c</td>\n",
       "      <td>44.99</td>\n",
       "      <td>2016-09-15 12:16:38</td>\n",
       "      <td>1</td>\n",
       "    </tr>\n",
       "    <tr>\n",
       "      <th>82428</th>\n",
       "      <td>b106b360fe2ef8849fbbd056f777b4d5</td>\n",
       "      <td>0eb1ee9dba87f5b36b4613a65074337c</td>\n",
       "      <td>71303d7e93b399f5bcd537d124c0bcfa</td>\n",
       "      <td>100.00</td>\n",
       "      <td>2016-10-02 22:07:52</td>\n",
       "      <td>4</td>\n",
       "    </tr>\n",
       "    <tr>\n",
       "      <th>92566</th>\n",
       "      <td>355077684019f7f60a031656bd7262b8</td>\n",
       "      <td>32ea3bdedab835c3aa6cb68ce66565ef</td>\n",
       "      <td>3b697a20d9e427646d92567910af6d57</td>\n",
       "      <td>29.90</td>\n",
       "      <td>2016-10-03 09:44:50</td>\n",
       "      <td>4</td>\n",
       "    </tr>\n",
       "  </tbody>\n",
       "</table>\n",
       "</div>"
      ],
      "text/plain": [
       "                            customer_id                customer_unique_id  \\\n",
       "4510   08c5351a6aca1c1589a38f244edeee9d  b7d76e111c89f7ebf14761390f0f7d17   \n",
       "4366   683c54fc24d40ee9f8a6fc179fd9856c  4854e9b3feff728c13ee5fc7d1547e92   \n",
       "30475  86dc2ffce2dfff336de2f386a786e574  830d5b7aaa3b6f1e9ad63703bec97d23   \n",
       "82428  b106b360fe2ef8849fbbd056f777b4d5  0eb1ee9dba87f5b36b4613a65074337c   \n",
       "92566  355077684019f7f60a031656bd7262b8  32ea3bdedab835c3aa6cb68ce66565ef   \n",
       "\n",
       "                               order_id   price order_purchase_timestamp  week  \n",
       "4510   2e7a8482f6fb09756ca50c10d7bfc047   39.99      2016-09-04 21:15:19     0  \n",
       "4366   e5fa5a7210941f7d56d0208e4e071d35   59.50      2016-09-05 00:15:34     0  \n",
       "30475  bfbd0f9bdef84302105ad712db648a6c   44.99      2016-09-15 12:16:38     1  \n",
       "82428  71303d7e93b399f5bcd537d124c0bcfa  100.00      2016-10-02 22:07:52     4  \n",
       "92566  3b697a20d9e427646d92567910af6d57   29.90      2016-10-03 09:44:50     4  "
      ]
     },
     "execution_count": 9,
     "metadata": {},
     "output_type": "execute_result"
    }
   ],
   "source": [
    "data.head()"
   ]
  },
  {
   "cell_type": "code",
   "execution_count": 10,
   "metadata": {},
   "outputs": [],
   "source": [
    "#Create a dictionnary of dataframes\n",
    "data_week = {}\n",
    "\n",
    "#For i number of week in range of 2 years \n",
    "for i in range(0, 105):\n",
    "    data_week[i] = data.loc[data['week']<=i]\n",
    "    #Calculate amount spent\n",
    "    data_week[i]['amount_spent'] = data_week[i].groupby('customer_unique_id')['price'].transform('sum')\n",
    "    #Calculate fraquency\n",
    "    data_week[i]['frequency'] = data_week[i].groupby('customer_unique_id')['order_id'].transform('count')\n",
    "    #Calculate recency\n",
    "    data_week[i]['recency'] = data_week[i].groupby('customer_unique_id')['order_purchase_timestamp'].transform('max')\n",
    "    data_week[i]['recency'] = (data_week[i]['order_purchase_timestamp'].max() - data_week[i]['recency']).dt.days    \n",
    "    data_week[i].sort_values('recency', ascending=False, inplace=True)\n",
    "    #Unify for customer\n",
    "    data_week[i].drop_duplicates(subset='customer_unique_id', keep='last', inplace=True)\n",
    "    data_week[i] = data_week[i][['customer_unique_id', 'recency', 'frequency', 'amount_spent']]    "
   ]
  },
  {
   "cell_type": "code",
   "execution_count": null,
   "metadata": {},
   "outputs": [],
   "source": []
  },
  {
   "cell_type": "code",
   "execution_count": 11,
   "metadata": {},
   "outputs": [
    {
     "data": {
      "text/html": [
       "<div>\n",
       "<style scoped>\n",
       "    .dataframe tbody tr th:only-of-type {\n",
       "        vertical-align: middle;\n",
       "    }\n",
       "\n",
       "    .dataframe tbody tr th {\n",
       "        vertical-align: top;\n",
       "    }\n",
       "\n",
       "    .dataframe thead th {\n",
       "        text-align: right;\n",
       "    }\n",
       "</style>\n",
       "<table border=\"1\" class=\"dataframe\">\n",
       "  <thead>\n",
       "    <tr style=\"text-align: right;\">\n",
       "      <th></th>\n",
       "      <th>customer_unique_id</th>\n",
       "      <th>recency</th>\n",
       "      <th>frequency</th>\n",
       "      <th>amount_spent</th>\n",
       "    </tr>\n",
       "  </thead>\n",
       "  <tbody>\n",
       "    <tr>\n",
       "      <th>31416</th>\n",
       "      <td>f7b62c75467e8ce080b201667cbbc274</td>\n",
       "      <td>696</td>\n",
       "      <td>2</td>\n",
       "      <td>90.87</td>\n",
       "    </tr>\n",
       "    <tr>\n",
       "      <th>27699</th>\n",
       "      <td>7a176e5d88c7acb6000a055e008c055d</td>\n",
       "      <td>694</td>\n",
       "      <td>2</td>\n",
       "      <td>489.89</td>\n",
       "    </tr>\n",
       "    <tr>\n",
       "      <th>92977</th>\n",
       "      <td>0ecf7f65b5ff3b9e61b637e59f495e0a</td>\n",
       "      <td>692</td>\n",
       "      <td>2</td>\n",
       "      <td>68.89</td>\n",
       "    </tr>\n",
       "    <tr>\n",
       "      <th>930</th>\n",
       "      <td>12f5d6e1cbf93dafd9dcc19095df0b3d</td>\n",
       "      <td>605</td>\n",
       "      <td>6</td>\n",
       "      <td>58.40</td>\n",
       "    </tr>\n",
       "    <tr>\n",
       "      <th>236</th>\n",
       "      <td>f7be9bec658c62ab6240b44cd26c0b84</td>\n",
       "      <td>605</td>\n",
       "      <td>2</td>\n",
       "      <td>20.80</td>\n",
       "    </tr>\n",
       "    <tr>\n",
       "      <th>...</th>\n",
       "      <td>...</td>\n",
       "      <td>...</td>\n",
       "      <td>...</td>\n",
       "      <td>...</td>\n",
       "    </tr>\n",
       "    <tr>\n",
       "      <th>95162</th>\n",
       "      <td>e0836a97eaae86ac4adc26fbb334a527</td>\n",
       "      <td>6</td>\n",
       "      <td>3</td>\n",
       "      <td>62.98</td>\n",
       "    </tr>\n",
       "    <tr>\n",
       "      <th>60398</th>\n",
       "      <td>1041688b50cfd8ef6df6086a1746a30c</td>\n",
       "      <td>5</td>\n",
       "      <td>2</td>\n",
       "      <td>41.80</td>\n",
       "    </tr>\n",
       "    <tr>\n",
       "      <th>22181</th>\n",
       "      <td>fb7e29c65321441231990afc201c1b14</td>\n",
       "      <td>5</td>\n",
       "      <td>2</td>\n",
       "      <td>182.90</td>\n",
       "    </tr>\n",
       "    <tr>\n",
       "      <th>38446</th>\n",
       "      <td>34b0cd95480e55c2a701293a2b9671b3</td>\n",
       "      <td>5</td>\n",
       "      <td>3</td>\n",
       "      <td>153.31</td>\n",
       "    </tr>\n",
       "    <tr>\n",
       "      <th>61882</th>\n",
       "      <td>ff22e30958c13ffe219db7d711e8f564</td>\n",
       "      <td>0</td>\n",
       "      <td>2</td>\n",
       "      <td>290.00</td>\n",
       "    </tr>\n",
       "  </tbody>\n",
       "</table>\n",
       "<p>2913 rows × 4 columns</p>\n",
       "</div>"
      ],
      "text/plain": [
       "                     customer_unique_id  recency  frequency  amount_spent\n",
       "31416  f7b62c75467e8ce080b201667cbbc274      696          2         90.87\n",
       "27699  7a176e5d88c7acb6000a055e008c055d      694          2        489.89\n",
       "92977  0ecf7f65b5ff3b9e61b637e59f495e0a      692          2         68.89\n",
       "930    12f5d6e1cbf93dafd9dcc19095df0b3d      605          6         58.40\n",
       "236    f7be9bec658c62ab6240b44cd26c0b84      605          2         20.80\n",
       "...                                 ...      ...        ...           ...\n",
       "95162  e0836a97eaae86ac4adc26fbb334a527        6          3         62.98\n",
       "60398  1041688b50cfd8ef6df6086a1746a30c        5          2         41.80\n",
       "22181  fb7e29c65321441231990afc201c1b14        5          2        182.90\n",
       "38446  34b0cd95480e55c2a701293a2b9671b3        5          3        153.31\n",
       "61882  ff22e30958c13ffe219db7d711e8f564        0          2        290.00\n",
       "\n",
       "[2913 rows x 4 columns]"
      ]
     },
     "execution_count": 11,
     "metadata": {},
     "output_type": "execute_result"
    }
   ],
   "source": [
    "data_week[104].loc[data_week[104]['frequency'] > 1]"
   ]
  },
  {
   "cell_type": "code",
   "execution_count": 12,
   "metadata": {},
   "outputs": [
    {
     "data": {
      "text/html": [
       "<div>\n",
       "<style scoped>\n",
       "    .dataframe tbody tr th:only-of-type {\n",
       "        vertical-align: middle;\n",
       "    }\n",
       "\n",
       "    .dataframe tbody tr th {\n",
       "        vertical-align: top;\n",
       "    }\n",
       "\n",
       "    .dataframe thead th {\n",
       "        text-align: right;\n",
       "    }\n",
       "</style>\n",
       "<table border=\"1\" class=\"dataframe\">\n",
       "  <thead>\n",
       "    <tr style=\"text-align: right;\">\n",
       "      <th></th>\n",
       "      <th>customer_id</th>\n",
       "      <th>customer_unique_id</th>\n",
       "      <th>order_id</th>\n",
       "      <th>price</th>\n",
       "      <th>order_purchase_timestamp</th>\n",
       "      <th>week</th>\n",
       "    </tr>\n",
       "  </thead>\n",
       "  <tbody>\n",
       "    <tr>\n",
       "      <th>95093</th>\n",
       "      <td>f63b99a7b32694f5b1f0a4171478cd21</td>\n",
       "      <td>e0836a97eaae86ac4adc26fbb334a527</td>\n",
       "      <td>c765302c18a92bcea0bc5c976bae0174</td>\n",
       "      <td>14.49</td>\n",
       "      <td>2018-06-26 14:03:15</td>\n",
       "      <td>94</td>\n",
       "    </tr>\n",
       "    <tr>\n",
       "      <th>37371</th>\n",
       "      <td>f7224426a8a68eda1674c2b84be34da2</td>\n",
       "      <td>e0836a97eaae86ac4adc26fbb334a527</td>\n",
       "      <td>67d3db1e6d9adab9c49e67e8a2e65b8f</td>\n",
       "      <td>14.49</td>\n",
       "      <td>2018-07-30 07:41:38</td>\n",
       "      <td>99</td>\n",
       "    </tr>\n",
       "    <tr>\n",
       "      <th>95162</th>\n",
       "      <td>15aee229d1d48b6a17dd0b8e2a3705e0</td>\n",
       "      <td>e0836a97eaae86ac4adc26fbb334a527</td>\n",
       "      <td>c7756342d355d13eea40a754b6602da6</td>\n",
       "      <td>34.00</td>\n",
       "      <td>2018-08-27 09:54:35</td>\n",
       "      <td>103</td>\n",
       "    </tr>\n",
       "  </tbody>\n",
       "</table>\n",
       "</div>"
      ],
      "text/plain": [
       "                            customer_id                customer_unique_id  \\\n",
       "95093  f63b99a7b32694f5b1f0a4171478cd21  e0836a97eaae86ac4adc26fbb334a527   \n",
       "37371  f7224426a8a68eda1674c2b84be34da2  e0836a97eaae86ac4adc26fbb334a527   \n",
       "95162  15aee229d1d48b6a17dd0b8e2a3705e0  e0836a97eaae86ac4adc26fbb334a527   \n",
       "\n",
       "                               order_id  price order_purchase_timestamp  week  \n",
       "95093  c765302c18a92bcea0bc5c976bae0174  14.49      2018-06-26 14:03:15    94  \n",
       "37371  67d3db1e6d9adab9c49e67e8a2e65b8f  14.49      2018-07-30 07:41:38    99  \n",
       "95162  c7756342d355d13eea40a754b6602da6  34.00      2018-08-27 09:54:35   103  "
      ]
     },
     "execution_count": 12,
     "metadata": {},
     "output_type": "execute_result"
    }
   ],
   "source": [
    "data.loc[data['customer_unique_id'] == 'e0836a97eaae86ac4adc26fbb334a527']"
   ]
  },
  {
   "cell_type": "code",
   "execution_count": 13,
   "metadata": {},
   "outputs": [
    {
     "data": {
      "text/html": [
       "<div>\n",
       "<style scoped>\n",
       "    .dataframe tbody tr th:only-of-type {\n",
       "        vertical-align: middle;\n",
       "    }\n",
       "\n",
       "    .dataframe tbody tr th {\n",
       "        vertical-align: top;\n",
       "    }\n",
       "\n",
       "    .dataframe thead th {\n",
       "        text-align: right;\n",
       "    }\n",
       "</style>\n",
       "<table border=\"1\" class=\"dataframe\">\n",
       "  <thead>\n",
       "    <tr style=\"text-align: right;\">\n",
       "      <th></th>\n",
       "      <th>customer_unique_id</th>\n",
       "      <th>recency</th>\n",
       "      <th>frequency</th>\n",
       "      <th>amount_spent</th>\n",
       "    </tr>\n",
       "  </thead>\n",
       "  <tbody>\n",
       "    <tr>\n",
       "      <th>95093</th>\n",
       "      <td>e0836a97eaae86ac4adc26fbb334a527</td>\n",
       "      <td>5</td>\n",
       "      <td>1</td>\n",
       "      <td>14.49</td>\n",
       "    </tr>\n",
       "  </tbody>\n",
       "</table>\n",
       "</div>"
      ],
      "text/plain": [
       "                     customer_unique_id  recency  frequency  amount_spent\n",
       "95093  e0836a97eaae86ac4adc26fbb334a527        5          1         14.49"
      ]
     },
     "execution_count": 13,
     "metadata": {},
     "output_type": "execute_result"
    }
   ],
   "source": [
    "data_week[94].loc[data_week[94]['customer_unique_id'] == 'e0836a97eaae86ac4adc26fbb334a527']"
   ]
  },
  {
   "cell_type": "code",
   "execution_count": 14,
   "metadata": {},
   "outputs": [
    {
     "data": {
      "text/html": [
       "<div>\n",
       "<style scoped>\n",
       "    .dataframe tbody tr th:only-of-type {\n",
       "        vertical-align: middle;\n",
       "    }\n",
       "\n",
       "    .dataframe tbody tr th {\n",
       "        vertical-align: top;\n",
       "    }\n",
       "\n",
       "    .dataframe thead th {\n",
       "        text-align: right;\n",
       "    }\n",
       "</style>\n",
       "<table border=\"1\" class=\"dataframe\">\n",
       "  <thead>\n",
       "    <tr style=\"text-align: right;\">\n",
       "      <th></th>\n",
       "      <th>customer_unique_id</th>\n",
       "      <th>recency</th>\n",
       "      <th>frequency</th>\n",
       "      <th>amount_spent</th>\n",
       "    </tr>\n",
       "  </thead>\n",
       "  <tbody>\n",
       "    <tr>\n",
       "      <th>37371</th>\n",
       "      <td>e0836a97eaae86ac4adc26fbb334a527</td>\n",
       "      <td>2</td>\n",
       "      <td>3</td>\n",
       "      <td>62.98</td>\n",
       "    </tr>\n",
       "  </tbody>\n",
       "</table>\n",
       "</div>"
      ],
      "text/plain": [
       "                     customer_unique_id  recency  frequency  amount_spent\n",
       "37371  e0836a97eaae86ac4adc26fbb334a527        2          3         62.98"
      ]
     },
     "execution_count": 14,
     "metadata": {},
     "output_type": "execute_result"
    }
   ],
   "source": [
    "data_week[103].loc[data_week[103]['customer_unique_id'] == 'e0836a97eaae86ac4adc26fbb334a527']"
   ]
  },
  {
   "cell_type": "code",
   "execution_count": 15,
   "metadata": {},
   "outputs": [
    {
     "data": {
      "text/html": [
       "<div>\n",
       "<style scoped>\n",
       "    .dataframe tbody tr th:only-of-type {\n",
       "        vertical-align: middle;\n",
       "    }\n",
       "\n",
       "    .dataframe tbody tr th {\n",
       "        vertical-align: top;\n",
       "    }\n",
       "\n",
       "    .dataframe thead th {\n",
       "        text-align: right;\n",
       "    }\n",
       "</style>\n",
       "<table border=\"1\" class=\"dataframe\">\n",
       "  <thead>\n",
       "    <tr style=\"text-align: right;\">\n",
       "      <th></th>\n",
       "      <th>customer_unique_id</th>\n",
       "      <th>recency</th>\n",
       "      <th>frequency</th>\n",
       "      <th>amount_spent</th>\n",
       "    </tr>\n",
       "  </thead>\n",
       "  <tbody>\n",
       "    <tr>\n",
       "      <th>4510</th>\n",
       "      <td>b7d76e111c89f7ebf14761390f0f7d17</td>\n",
       "      <td>728</td>\n",
       "      <td>1</td>\n",
       "      <td>39.99</td>\n",
       "    </tr>\n",
       "    <tr>\n",
       "      <th>4366</th>\n",
       "      <td>4854e9b3feff728c13ee5fc7d1547e92</td>\n",
       "      <td>728</td>\n",
       "      <td>1</td>\n",
       "      <td>59.50</td>\n",
       "    </tr>\n",
       "    <tr>\n",
       "      <th>30475</th>\n",
       "      <td>830d5b7aaa3b6f1e9ad63703bec97d23</td>\n",
       "      <td>717</td>\n",
       "      <td>1</td>\n",
       "      <td>44.99</td>\n",
       "    </tr>\n",
       "    <tr>\n",
       "      <th>82428</th>\n",
       "      <td>0eb1ee9dba87f5b36b4613a65074337c</td>\n",
       "      <td>700</td>\n",
       "      <td>1</td>\n",
       "      <td>100.00</td>\n",
       "    </tr>\n",
       "    <tr>\n",
       "      <th>87779</th>\n",
       "      <td>8d3a54507421dbd2ce0a1d58046826e0</td>\n",
       "      <td>699</td>\n",
       "      <td>1</td>\n",
       "      <td>119.90</td>\n",
       "    </tr>\n",
       "    <tr>\n",
       "      <th>...</th>\n",
       "      <td>...</td>\n",
       "      <td>...</td>\n",
       "      <td>...</td>\n",
       "      <td>...</td>\n",
       "    </tr>\n",
       "    <tr>\n",
       "      <th>74174</th>\n",
       "      <td>b4dcade04bc548b7e3b0243c801f8c26</td>\n",
       "      <td>4</td>\n",
       "      <td>1</td>\n",
       "      <td>99.00</td>\n",
       "    </tr>\n",
       "    <tr>\n",
       "      <th>67309</th>\n",
       "      <td>0421e7a23f21e5d54efed456aedbc513</td>\n",
       "      <td>4</td>\n",
       "      <td>1</td>\n",
       "      <td>109.90</td>\n",
       "    </tr>\n",
       "    <tr>\n",
       "      <th>5729</th>\n",
       "      <td>21dbe8eabd00b34492a939c540e2b1a7</td>\n",
       "      <td>4</td>\n",
       "      <td>1</td>\n",
       "      <td>6.90</td>\n",
       "    </tr>\n",
       "    <tr>\n",
       "      <th>87719</th>\n",
       "      <td>0c6d7218d5f3fa14514fd29865269993</td>\n",
       "      <td>4</td>\n",
       "      <td>1</td>\n",
       "      <td>169.80</td>\n",
       "    </tr>\n",
       "    <tr>\n",
       "      <th>61882</th>\n",
       "      <td>ff22e30958c13ffe219db7d711e8f564</td>\n",
       "      <td>0</td>\n",
       "      <td>2</td>\n",
       "      <td>290.00</td>\n",
       "    </tr>\n",
       "  </tbody>\n",
       "</table>\n",
       "<p>95420 rows × 4 columns</p>\n",
       "</div>"
      ],
      "text/plain": [
       "                     customer_unique_id  recency  frequency  amount_spent\n",
       "4510   b7d76e111c89f7ebf14761390f0f7d17      728          1         39.99\n",
       "4366   4854e9b3feff728c13ee5fc7d1547e92      728          1         59.50\n",
       "30475  830d5b7aaa3b6f1e9ad63703bec97d23      717          1         44.99\n",
       "82428  0eb1ee9dba87f5b36b4613a65074337c      700          1        100.00\n",
       "87779  8d3a54507421dbd2ce0a1d58046826e0      699          1        119.90\n",
       "...                                 ...      ...        ...           ...\n",
       "74174  b4dcade04bc548b7e3b0243c801f8c26        4          1         99.00\n",
       "67309  0421e7a23f21e5d54efed456aedbc513        4          1        109.90\n",
       "5729   21dbe8eabd00b34492a939c540e2b1a7        4          1          6.90\n",
       "87719  0c6d7218d5f3fa14514fd29865269993        4          1        169.80\n",
       "61882  ff22e30958c13ffe219db7d711e8f564        0          2        290.00\n",
       "\n",
       "[95420 rows x 4 columns]"
      ]
     },
     "execution_count": 15,
     "metadata": {},
     "output_type": "execute_result"
    }
   ],
   "source": [
    "data_week[104]"
   ]
  },
  {
   "cell_type": "code",
   "execution_count": 16,
   "metadata": {},
   "outputs": [],
   "source": [
    "for i in range(0, 105):\n",
    "      data_week[i].set_index('customer_unique_id', inplace=True)"
   ]
  },
  {
   "cell_type": "code",
   "execution_count": 17,
   "metadata": {},
   "outputs": [
    {
     "data": {
      "image/png": "[encoded data removed]",
      "text/plain": [
       "<Figure size 1500x500 with 1 Axes>"
      ]
     },
     "metadata": {},
     "output_type": "display_data"
    }
   ],
   "source": [
    "#plot distribution of recency\n",
    "plt.figure(figsize=(15, 5))\n",
    "sns.distplot(data_week[104]['recency'], kde=False, bins=104)\n",
    "plt.title('Distribution of recency')\n",
    "plt.show()"
   ]
  },
  {
   "cell_type": "code",
   "execution_count": null,
   "metadata": {},
   "outputs": [],
   "source": []
  },
  {
   "cell_type": "code",
   "execution_count": null,
   "metadata": {},
   "outputs": [],
   "source": []
  },
  {
   "cell_type": "code",
   "execution_count": null,
   "metadata": {},
   "outputs": [],
   "source": []
  },
  {
   "cell_type": "code",
   "execution_count": 18,
   "metadata": {},
   "outputs": [],
   "source": [
    "#Scaler on every data_week\n",
    "data_week_scaled = {}\n",
    "for i in range(0, 105):\n",
    "    scaler = StandardScaler()\n",
    "    data_week_scaled[i] = scaler.fit_transform(data_week[i])"
   ]
  },
  {
   "cell_type": "code",
   "execution_count": null,
   "metadata": {},
   "outputs": [],
   "source": []
  },
  {
   "cell_type": "code",
   "execution_count": 19,
   "metadata": {},
   "outputs": [],
   "source": [
    "#Apply kmeans on every data_week\n",
    "kmeans_week = {}\n",
    "\n",
    "for i in range(0, 105):\n",
    "    if data_week_scaled[i].shape[0] > 4:\n",
    "            kmeans_week[i] = KMeans(n_clusters=4, random_state=42)\n",
    "            kmeans_week[i].fit(data_week_scaled[i])\n",
    "            data_week[i]['cluster'] = kmeans_week[i].labels_"
   ]
  },
  {
   "cell_type": "code",
   "execution_count": 20,
   "metadata": {},
   "outputs": [
    {
     "data": {
      "text/plain": [
       "customer_unique_id\n",
       "b7d76e111c89f7ebf14761390f0f7d17    1\n",
       "4854e9b3feff728c13ee5fc7d1547e92    1\n",
       "830d5b7aaa3b6f1e9ad63703bec97d23    1\n",
       "0eb1ee9dba87f5b36b4613a65074337c    1\n",
       "8d3a54507421dbd2ce0a1d58046826e0    1\n",
       "                                   ..\n",
       "b4dcade04bc548b7e3b0243c801f8c26    0\n",
       "0421e7a23f21e5d54efed456aedbc513    0\n",
       "21dbe8eabd00b34492a939c540e2b1a7    0\n",
       "0c6d7218d5f3fa14514fd29865269993    0\n",
       "ff22e30958c13ffe219db7d711e8f564    2\n",
       "Name: cluster, Length: 95420, dtype: int32"
      ]
     },
     "execution_count": 20,
     "metadata": {},
     "output_type": "execute_result"
    }
   ],
   "source": [
    "data_week[104][:data_week[103].shape[0]]['cluster']"
   ]
  },
  {
   "cell_type": "code",
   "execution_count": 21,
   "metadata": {},
   "outputs": [
    {
     "data": {
      "text/plain": [
       "customer_unique_id\n",
       "b7d76e111c89f7ebf14761390f0f7d17    0\n",
       "4854e9b3feff728c13ee5fc7d1547e92    0\n",
       "830d5b7aaa3b6f1e9ad63703bec97d23    0\n",
       "0eb1ee9dba87f5b36b4613a65074337c    0\n",
       "30a38716bb2d04f12bb813aa2f926270    0\n",
       "                                   ..\n",
       "bb5d40ed8c3448238563262b4700bae5    1\n",
       "23e6a9d387ba03e2099233222d7635cf    1\n",
       "fb7e29c65321441231990afc201c1b14    2\n",
       "1041688b50cfd8ef6df6086a1746a30c    2\n",
       "24ac2b4327e25baf39f2119e4228976a    1\n",
       "Name: cluster, Length: 95420, dtype: int32"
      ]
     },
     "execution_count": 21,
     "metadata": {},
     "output_type": "execute_result"
    }
   ],
   "source": [
    "data_week[103]['cluster']"
   ]
  },
  {
   "cell_type": "code",
   "execution_count": 22,
   "metadata": {},
   "outputs": [
    {
     "data": {
      "text/plain": [
       "-0.0008505793574933483"
      ]
     },
     "execution_count": 22,
     "metadata": {},
     "output_type": "execute_result"
    }
   ],
   "source": [
    "adjusted_rand_score(data_week[51]['cluster'], data_week[104][:data_week[51].shape[0]]['cluster'])"
   ]
  },
  {
   "cell_type": "code",
   "execution_count": 38,
   "metadata": {},
   "outputs": [
    {
     "data": {
      "text/plain": [
       "array([0, 0, 0, ..., 1, 1, 1], dtype=int32)"
      ]
     },
     "execution_count": 38,
     "metadata": {},
     "output_type": "execute_result"
    }
   ],
   "source": [
    "kmeans_week[52].predict(data_week_scaled[55])"
   ]
  },
  {
   "cell_type": "code",
   "execution_count": 40,
   "metadata": {},
   "outputs": [],
   "source": [
    "#Try with weeks since 1 year\n",
    "ari_range = {}\n",
    "for s in range(1, 53):\n",
    "    ari_range[s] = adjusted_rand_score(data_week[52+s]['cluster'], kmeans_week[52].predict(data_week_scaled[52+s]))"
   ]
  },
  {
   "cell_type": "code",
   "execution_count": 41,
   "metadata": {},
   "outputs": [
    {
     "data": {
      "image/png": "[encoded data removed]",
      "text/plain": [
       "<Figure size 1500x500 with 1 Axes>"
      ]
     },
     "metadata": {},
     "output_type": "display_data"
    }
   ],
   "source": [
    "#plot ARI score for different range of weeks\n",
    "plt.figure(figsize=(15, 5))\n",
    "plt.plot(list(ari_range.keys()), list(ari_range.values()))\n",
    "plt.xticks(np.arange(0, 53, 1))\n",
    "plt.title('ARI score for different range of weeks')\n",
    "plt.show()"
   ]
  },
  {
   "cell_type": "code",
   "execution_count": 25,
   "metadata": {},
   "outputs": [
    {
     "data": {
      "image/png": "[encoded data removed]",
      "text/plain": [
       "<Figure size 1500x500 with 1 Axes>"
      ]
     },
     "metadata": {},
     "output_type": "display_data"
    }
   ],
   "source": [
    "#Second try with every weeks\n",
    "ari_range = {}\n",
    "for s in range(1, 30):\n",
    "    for i in range (0, 105-s, s):\n",
    "        ari = []\n",
    "        if data_week_scaled[i].shape[0] > 4:\n",
    "            ari.append(adjusted_rand_score(data_week[i]['cluster'], data_week[i+s][:data_week[i].shape[0]]['cluster']))\n",
    "    ari_range[s] = np.mean(ari)\n",
    "    \n",
    "#plot ARI score for different range of weeks\n",
    "plt.figure(figsize=(15, 5))\n",
    "plt.plot(list(ari_range.keys()), list(ari_range.values()))\n",
    "plt.xticks(np.arange(0, 30, 1))\n",
    "plt.title('ARI score for different range of weeks')\n",
    "plt.show()"
   ]
  }
 ],
 "metadata": {
  "kernelspec": {
   "display_name": "Python 3 (ipykernel)",
   "language": "python",
   "name": "python3"
  },
  "language_info": {
   "codemirror_mode": {
    "name": "ipython",
    "version": 3
   },
   "file_extension": ".py",
   "mimetype": "text/x-python",
   "name": "python",
   "nbconvert_exporter": "python",
   "pygments_lexer": "ipython3",
   "version": "3.10.7"
  }
 },
 "nbformat": 4,
 "nbformat_minor": 2
}
